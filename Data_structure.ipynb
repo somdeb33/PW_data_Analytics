{
 "cells": [
  {
   "cell_type": "markdown",
   "id": "acb46211",
   "metadata": {},
   "source": [
    "Assignment 2: Data Types and Structures"
   ]
  },
  {
   "cell_type": "markdown",
   "id": "a1215cbe",
   "metadata": {},
   "source": [
    "1.  What are data structures, and why are they important ?\n",
    "\n",
    "Data structures are organized ways to store, manage, and retrieve data efficiently in a computer.\n",
    "\n",
    "Importance of Data Structure :\n",
    "\n",
    "Efficient Data Management :Help organize large amounts of data so it's easy to access and modify.\n",
    "Faster Searching & Sorting: Certain data structures  allow faster operations.\n",
    "Memory Optimization: Help reduce memory usage by using optimal storage formats.\n",
    "Foundation for Algorithms: Most algorithms rely on data structures to work correctly and efficiently.\n",
    "Real-world Problem Solving: Useful in tasks like file systems, databases, social networks, etc.\n",
    "Helps in Decision Making: Choosing the right data structure can improve performance drastically.\n",
    "\n",
    "Examples: List,tuple,sets"
   ]
  },
  {
   "cell_type": "markdown",
   "id": "7f1d9851",
   "metadata": {},
   "source": [
    "2.  Explain the difference between mutable and immutable data types with examples\n",
    "\n",
    "Mutable:\n",
    "Objects that can be changed after they are created.\n",
    "No new memory location is created\n",
    "\n",
    "Example :list, dict, set\n",
    "\n",
    "\n",
    "\n",
    "\n",
    "Immutable:\n",
    "Objects that cannot be changed after they are created.\n",
    "Creation of new  memory location at any changes\n",
    "\n",
    "Examples: int, float, str, tuple\n",
    "\n",
    "\n",
    "\n"
   ]
  },
  {
   "cell_type": "markdown",
   "id": "f92c1e20",
   "metadata": {},
   "source": [
    "3.  What are the main differences between lists and tuples in Python ?\n",
    "\n",
    "Difference bwtween List and tuple\n",
    "1. Mutability:\n",
    "Lists are mutable whereas tuples are immutable.\n",
    "This means you can change, add, or remove elements in a list, but you cannot modify a tuple after it's created.\n",
    "\n",
    "2. Syntax:\n",
    " Lists use square brackets [ ], whereas tuples use parentheses ( ).\n",
    "This means you define a list like [1, 2, 3] and a tuple like (1, 2, 3).\n",
    "\n",
    "3. Methods Available: \n",
    "Lists have many built-in methods, whereas tuples have very few.\n",
    "This means you can modify a list using methods like append(), pop(), or sort(), but tuples only support count() and index().\n",
    "\n",
    "4. Performance:\n",
    " Tuples are faster in performance than lists.\n",
    "This is because tuples are immutable and require less overhead, making them more efficient in fixed-size data operations.\n",
    "\n",
    "5. Memory Usage: Tuples use less memory than lists.\n",
    "Since tuples are fixed in size, they consume less memory than dynamic lists.\n",
    "\n",
    "6. Use Case: Lists are used when data can change, whereas tuples are used for fixed data.\n",
    "This means use lists for dynamic operations, and tuples when you want to protect data from modification.\n",
    "\n"
   ]
  },
  {
   "cell_type": "markdown",
   "id": "df382ea0",
   "metadata": {},
   "source": [
    "4.  Describe how dictionaries store data .\n",
    "\n",
    "A dictionary in Python is a collection of key-value pairs, where each key is unique and is used to access its corresponding value.\n",
    "\n",
    "Dictionaries store data:\n",
    "\n",
    "A dictionary stores data as key-value pairs.\n",
    "The key is used to identify the data.\n",
    "The value is the data associated with that key.\n",
    "It allows for quick access, update, and deletion of data using keys.\n"
   ]
  },
  {
   "cell_type": "markdown",
   "id": "02126e15",
   "metadata": {},
   "source": [
    "5. Why might you use a set instead of a list in Python ?\n",
    "\n",
    "Reasons to use set instead of list :\n",
    "\n",
    "1. No duplicate elements : A set automatically removes duplicates, while a list can store them.\n",
    "2. Faster lookups : Checking if an element exists in a set (in operation) is generally O(1), compared to O(n) for a list.\n",
    "3. Unordered collection : If you don’t care about the order of elements, sets are more efficient.\n",
    "4. Mathematical operations : Sets support union, intersection, and difference operations directly.\n",
    "5. Better for uniqueness checks : When you need only unique items, sets avoid manual duplicate removal."
   ]
  },
  {
   "cell_type": "markdown",
   "id": "1e8aeff8",
   "metadata": {},
   "source": [
    "6. What is a string in Python, and how is it different from a list ?\n",
    "\n",
    "String: A string is a sequence of characters. Python treats anything inside quotes as a string. This includes letters, numbers, and symbols. Python has no character data type so single character is a string of length 1.\n",
    "\n",
    "String different from list:\n",
    "1. Data Type : A string stores only characters, while a list can store elements of any data type (numbers, strings, objects, etc.).\n",
    "2. Mutability : Strings are immutable, whereas lists are mutable .\n",
    "3. Element Type : Strings can contain only characters, but lists can have mixed data types.\n",
    "4. Modification : You cannot directly change a character in a string, but you can change, add, or remove elements in a list.\n",
    "5. Operations : Strings have text-specific methods (upper(), replace(), split()), while lists have collection-specific methods (append(), remove(), sort()).\n",
    "6. Representation : Strings are written inside quotes (' ', \" \"), while lists are written inside square brackets [ ].\n",
    "7. Usage : Strings are used for text data, while lists are used for storing a sequence of items."
   ]
  },
  {
   "cell_type": "markdown",
   "id": "26ef7aeb",
   "metadata": {},
   "source": [
    "7. How do tuples ensure data integrity in Python ?\n",
    "\n",
    "Tuples ensure data integrity in Python mainly because they are immutable.\n",
    "\n",
    "Other reasons tuples ensure data integrity:\n",
    "1. Prevents accidental changes : Since tuples can’t be modified, your data stays exactly as it was when created.\n",
    "2. Reliable as constants : Tuples can store fixed data (like configuration values) that must remain the same throughout the program.\n",
    "3. Safe for keys in dictionaries : Their immutability allows them to be used as dictionary keys or stored in sets without risk of being altered.\n",
    "4. Predictable behavior : No unexpected changes in tuple data make debugging and tracking logic easier.\n",
    "5. Thread-safety : In multi-threaded programs, immutable data structures like tuples reduce the chance of data corruption from concurrent modifications."
   ]
  },
  {
   "cell_type": "markdown",
   "id": "9e0b2ebb",
   "metadata": {},
   "source": [
    "8. What is a hash table, and how does it relate to dictionaries in Python ?\n",
    "\n",
    " A hash table is a data structure that stores key–value pairs and uses a hash function to map each key to a specific index (bucket) in memory.\n",
    "\n",
    "Relation of Hashtable to dictionaries :\n",
    "\n",
    "1. In Python, a dictionary (dict) is implemented using a hash table.\n",
    "2. Keys in a dictionary are hashed internally, and their hash values decide where the corresponding values are stored in memory.\n",
    "3. Only immutable and hashable objects can be used as dictionary keys.\n",
    "4. Hash tables let dictionaries perform very fast lookups, even with large amounts of data.\n",
    "\n",
    "Example\n",
    "my_dict = {\"name\": \"Somdeb\", \"age\": 27}\n",
    "#\"name\" is hashed internally → value 27 stored at a memory bucket\n",
    "print(my_dict[\"name\"])  # Output: Somdeb\n",
    "\n",
    "\n"
   ]
  },
  {
   "cell_type": "markdown",
   "id": "2c85fc53",
   "metadata": {},
   "source": [
    "9.  Can lists contain different data types in Python ?\n",
    "\n",
    "Yes, lists in Python can contain different data types in the same list.\n",
    "A list can hold integers, floats, strings, booleans, objects, even other lists — all mixed together.\n",
    "This is possible because Python lists are dynamic and store references to objects, not fixed-type elements.\n",
    "\n",
    "\n",
    "my_list = [2, \"Hello world\", 9.2, True, [2, 4, 6]]\n",
    "print(my_list)\n"
   ]
  },
  {
   "cell_type": "markdown",
   "id": "4771b880",
   "metadata": {},
   "source": [
    "10. Explain why strings are immutable in Python .\n",
    "\n",
    "Reasons String are immutable are :\n",
    "\n",
    "1. Memory efficiency : Immutability allows Python to reuse identical string objects (string interning), saving memory.\n",
    "2. Hash consistency : Strings must stay unchanged so their hash value remains constant when used as dictionary or set keys.\n",
    "3. Thread-safety : Because strings can’t be modified, they can be shared between threads without risk of corruption.\n",
    "4. Predictable behavior : Fixed, unchangeable strings prevent accidental changes, making code more reliable.\n",
    "5. Performance optimization : Immutable strings can be stored and accessed in a way that speeds up certain operations."
   ]
  },
  {
   "cell_type": "markdown",
   "id": "07d596a0",
   "metadata": {},
   "source": [
    "11. What advantages do dictionaries offer over lists for certain tasks ?\n",
    "\n",
    "Dictionaries offer several advantages over lists for certain tasks, mainly due to their key-value structure and efficient lookups:\n",
    "\n",
    "Fast Lookups: Dictionaries provide very fast access to elements based on their keys, regardless of the size of the dictionary. Lists, on the other hand, require iterating through the list to find an element by its value (unless you know the index), which can be slow for large lists.\n",
    "Meaningful Access: Accessing data by a descriptive key (like a name or ID) is often more intuitive and readable than accessing data by a numerical index, especially when the order of items doesn't matter.\n",
    "Associative Arrays: Dictionaries are ideal for representing data where there is a natural association between pieces of information. For example, storing a person's attributes (name, age, city) where the attributes are the keys and the specific values are the data.\n",
    "No Need for Order: If the order of elements doesn't matter for your task, dictionaries are often a better choice. Lists maintain order, which can add overhead if you don't need it.\n",
    "Representing Structured Data: Dictionaries are excellent for representing structured data, similar to JSON objects. This makes them very useful when working with APIs or data formats that use key-value pairs.\n",
    "Here's a simple example comparing accessing data in a list versus a dictionary:\n",
    "\n",
    "#Using a list (lookup by value can be slow)\n",
    "person_list = [\"somdeb\", 25, \"Tinsukia\"]\n",
    "#To find Somdeb's age, you'd have to know the index or search\n",
    "\n",
    "#Using a dictionary (fast lookup by key)\n",
    "person_dict = {\n",
    "    \"name\": \"Somdeb\",\n",
    "    \"age\": 25,\n",
    "    \"city\": \"Tinsukia\"\n",
    "}\n",
    "age = person_dict[\"age\"] # Fast and clear"
   ]
  },
  {
   "cell_type": "markdown",
   "id": "90eb6e97",
   "metadata": {},
   "source": [
    "12. Describe a scenario where using a tuple would be preferable over a list.\n",
    "\n",
    "A scenario where using a tuple would be preferable over a list is when you need to represent a collection of items that should not be changed after they are created.\n",
    "\n",
    "Here's a specific example:\n",
    "\n",
    "Representing a Geographic Coordinate:\n",
    "\n",
    "If you need to store a geographic coordinate, which consists of a latitude and a longitude, a tuple is an excellent choice. A coordinate is a fixed pair of values that should not be modified.\n",
    "\n",
    "#Using a tuple for a coordinate\n",
    "coordinate_tuple = (40.7128, -74.0060)\n",
    "\n",
    "#You cannot change the latitude or longitude after creation\n",
    "#coordinate_tuple[0] = 41.0  # This would raise a TypeError\n",
    "Why a tuple is better than a list in this case:\n",
    "\n",
    "Data Integrity: Using a tuple ensures that the latitude and longitude values remain constant, preventing accidental modification that could lead to incorrect location data.\n",
    "Immutability for Hashing: As mentioned before, tuples can be used as keys in dictionaries or elements in sets because they are immutable. If you wanted to store coordinates in a dictionary (e.g., mapping a location name to its coordinate), you could use the tuple as the key. You couldn't do this with a list.\n",
    "Semantic Meaning: Using a tuple semantically indicates that this collection of data is a fixed unit and not meant to be altered."
   ]
  },
  {
   "cell_type": "markdown",
   "id": "33101691",
   "metadata": {},
   "source": [
    "13.  How do sets handle duplicate values in Python ?\n",
    "\n",
    "Sets automatically remove duplicate values because they only store unique elements.\n",
    "When you try to add a duplicate to a set, Python ignores it silently.\n",
    "This is possible because sets use a hash table internally, where each element’s hash value must be unique.\n",
    "\n",
    "my_set = {1, 2, 2, 3, 3, 3}\n",
    "print(my_set)\n"
   ]
  },
  {
   "cell_type": "markdown",
   "id": "db4cffaa",
   "metadata": {},
   "source": [
    "14. How does the “in” keyword work differently for lists and dictionaries ?\n",
    "\n",
    "The in keyword behaves differently for lists and dictionaries in Python:\n",
    "1.For lists \"in\" checks if a value exists anywhere in the list.\n",
    "\n",
    "```\n",
    "numbers = [1, 2, 3, 4]\n",
    "print(3 in numbers)   #(checks values)\n",
    "print(5 in numbers)   \n",
    "\n",
    "```\n",
    "2.For dictionaries – in checks if a key exists in the dictionary (not the value).\n",
    "\n",
    "```\n",
    "person = {\"name\": \"Alice\", \"age\": 25}\n",
    "print(\"name\" in person)   #  checks keys\n",
    "print(\"Alice\" in person)  # does not check values\n",
    "```\n",
    "\n"
   ]
  },
  {
   "cell_type": "markdown",
   "id": "e374ca14",
   "metadata": {},
   "source": [
    "15. Can you modify the elements of a tuple? Explain why or why not .\n",
    "\n",
    "No we cannot modify the elements of a tuple in Python.\n",
    "\n",
    "Reason:\n",
    "1. Tuples are immutable, meaning once they are created, their elements cannot be changed, added, or removed.\n",
    "2. This immutability ensures data integrity, allows tuples to be used as dictionary keys or stored in sets, and makes them more memory-efficient and thread-safe.\n",
    "\n",
    "```\n",
    "t = (1, 4, 6)\n",
    "t[0] = 10 # TypeError: 'tuple' object does not support item assignment\n",
    "```\n"
   ]
  },
  {
   "cell_type": "markdown",
   "id": "bc44041d",
   "metadata": {},
   "source": [
    "16. What is a nested dictionary, and give an example of its use case ?\n",
    "\n",
    "Nested Dictionary:\n",
    "\n",
    "1. A nested dictionary is a dictionary that contains another dictionary as one or more of its values.\n",
    "2. It’s used to store hierarchical or structured data in a compact, organized way.\n",
    "\n",
    "\n",
    "```\n",
    "# Example of usecase\n",
    "students = {\n",
    "    \"Alice\": {\"age\": 20, \"marks\": {\"Math\": 90, \"Science\": 85}},\n",
    "    \"Bob\": {\"age\": 22, \"marks\": {\"Math\": 78, \"Science\": 88}}\n",
    "}\n",
    "\n",
    "# Access Bob's Science marks\n",
    "print(students[\"Bob\"][\"marks\"][\"Science\"])  \n",
    "```"
   ]
  },
  {
   "cell_type": "markdown",
   "id": "6c0dd3fb",
   "metadata": {},
   "source": [
    "17.  Describe the time complexity of accessing elements in a dictionary.\n",
    "\n",
    "Accessing elements in a dictionary in Python has:\n",
    "\n",
    "1. Average case: O(1) : Constant time, because dictionaries use a hash table for key lookups.\n",
    "2. Worst case: O(n) : Happens rarely, only when many keys have the same hash value (hash collision) and Python has to search through them linearly.\n",
    "\n",
    "\n",
    "```\n",
    "person = {\"name\": \"somdeb\", \"age\": 25}\n",
    "print(person[\"age\"])  # O(1) average time\n",
    "```"
   ]
  },
  {
   "cell_type": "markdown",
   "id": "1e3e0874",
   "metadata": {},
   "source": [
    "18. In what situations are lists preferred over dictionaries ?\n",
    "\n",
    "Situations where lists are preferred over dictionaries:\n",
    "\n",
    "1. Order matters : When you need to preserve and work with the sequence of elements.\n",
    "2. No key-value mapping needed : When you only care about storing values, not associating them with unique keys.\n",
    "3. Allow duplicates : When you need to store the same value multiple times.\n",
    "4. Index-based access : When elements are best accessed by their position (index) rather than by a key.\n",
    "5. Small datasets : For small collections where the speed benefit of a dictionary is negligible.\n",
    "6. Iteration over values : When you want to loop through elements directly without worrying about keys.\n",
    "\n",
    "\n",
    "```\n",
    "fruits = [\"apple\", \"papaya\", \"papaya\", \"banana\", \"orange\"]\n",
    "print(fruits[1])\n",
    "```\n",
    "\n"
   ]
  },
  {
   "cell_type": "markdown",
   "id": "c8c58d9a",
   "metadata": {},
   "source": [
    "19. Why are dictionaries considered unordered, and how does that affect data retrieval ?\n",
    "\n",
    "Dictionaries are considered unordered:\n",
    "\n",
    "1. Before Python 3.7, dictionaries did not guarantee that elements would be stored or iterated in the order they were inserted.\n",
    "2. This is because dictionaries are implemented using a hash table, where the storage location of each key-value pair depends on the key’s hash value, not its position.\n",
    "\n",
    "Effect on data retrieval\n",
    "\n",
    "1. Key-based retrieval is unaffected we can always access a value directly using its key in O(1) time, regardless of order.\n",
    "2. However, iteration order was unpredictable in older versions of Python, meaning looping over a dictionary could produce elements in any sequence.\n",
    "3. From Python 3.7+, insertion order is preserved as an implementation detail  but retrieval by key is still independent of order."
   ]
  },
  {
   "cell_type": "markdown",
   "id": "1dc11272",
   "metadata": {},
   "source": [
    "20. Explain the difference between a list and a dictionary in terms of data retrieval.\n",
    "\n",
    "Difference between a list and a dictionary in terms of data retrieval:\n",
    "1. List : Retrieval is index-based\n",
    "\n",
    "We access elements using their position (0, 1, 2, …).\n",
    "Time complexity: O(1) for direct index access, but O(n) if you search for a value.\n",
    "\n",
    "\n",
    "```\n",
    "fruits = [\"apple\", \"banana\", \"cherry\"]\n",
    "print(fruits[1])\n",
    "```\n",
    "\n",
    "2. Dictionary : Retrieval is key-based\n",
    "\n",
    "We access values using unique keys, not positions.\n",
    "Time complexity: O(1) on average because of hashing."
   ]
  },
  {
   "cell_type": "markdown",
   "id": "93d85245",
   "metadata": {},
   "source": [
    "# PRACTICAL QUESTION"
   ]
  },
  {
   "cell_type": "code",
   "execution_count": 2,
   "id": "642365bf",
   "metadata": {},
   "outputs": [
    {
     "name": "stdout",
     "output_type": "stream",
     "text": [
      "My name is somdeb\n"
     ]
    }
   ],
   "source": [
    "#1 Write a code to create a string with your name and print it\n",
    "\n",
    "name=input(\"Enter your name\")\n",
    "print(f\"My name is {name}\")"
   ]
  },
  {
   "cell_type": "code",
   "execution_count": 3,
   "id": "6a6666db",
   "metadata": {},
   "outputs": [
    {
     "name": "stdout",
     "output_type": "stream",
     "text": [
      "Length of string is : 11\n"
     ]
    }
   ],
   "source": [
    "#2 Write a code to find the length of the string \"Hello World\"\n",
    "\n",
    "string=\"Hello World\"\n",
    "length=len(string)\n",
    "print(\"Length of string is :\",length)"
   ]
  },
  {
   "cell_type": "code",
   "execution_count": 4,
   "id": "d96ece20",
   "metadata": {},
   "outputs": [
    {
     "name": "stdout",
     "output_type": "stream",
     "text": [
      "String after slicing first 3 character : hon Programming\n"
     ]
    }
   ],
   "source": [
    "#3 Write a code to slice the first 3 characters from the string \"Python Programming\"\n",
    "\n",
    "string=\"Python Programming\"\n",
    "print(\"String after slicing first 3 character :\",string[3:])"
   ]
  },
  {
   "cell_type": "code",
   "execution_count": 5,
   "id": "77d54eb6",
   "metadata": {},
   "outputs": [
    {
     "name": "stdout",
     "output_type": "stream",
     "text": [
      "String in uppercase HELLO\n"
     ]
    }
   ],
   "source": [
    "#4 Write a code to convert the string \"hello\" to uppercase\n",
    "\n",
    "string=\"hello\"\n",
    "print(\"String in uppercase\",string.upper())"
   ]
  },
  {
   "cell_type": "code",
   "execution_count": 6,
   "id": "fd1e5fbc",
   "metadata": {},
   "outputs": [
    {
     "name": "stdout",
     "output_type": "stream",
     "text": [
      "String before replacement : I like apple \n",
      "String after replacemnt:  I like orange \n"
     ]
    }
   ],
   "source": [
    "#5 Write a code to replace the word \"apple\" with \"orange\" in the string \"I like apple\"\n",
    "\n",
    "string=\"I like apple \"\n",
    "\n",
    "new_string=string.replace(\"apple\",\"orange\") #replacing the word apple --->orange\n",
    "\n",
    "print(\"String before replacement :\",string)\n",
    "print(\"String after replacemnt: \",new_string)"
   ]
  },
  {
   "cell_type": "code",
   "execution_count": 7,
   "id": "7a34d6df",
   "metadata": {},
   "outputs": [
    {
     "name": "stdout",
     "output_type": "stream",
     "text": [
      "List with number 1 to 5 [1, 2, 3, 4, 5]\n"
     ]
    }
   ],
   "source": [
    "#6 Write a code to create a list with numbers 1 to 5 and print it\n",
    "\n",
    "list=[] #empty list\n",
    "for i in range(1,6):\n",
    "  list.append(i) #appending elements\n",
    "print(\"List with number 1 to 5\",list)"
   ]
  },
  {
   "cell_type": "code",
   "execution_count": 8,
   "id": "ba70a205",
   "metadata": {},
   "outputs": [
    {
     "name": "stdout",
     "output_type": "stream",
     "text": [
      "List before appending 10 :  [1, 2, 3, 4]\n",
      "List after appending 10 :  [1, 2, 3, 4, 10]\n"
     ]
    }
   ],
   "source": [
    "#7 Write a code to append the number 10 to the list [1, 2, 3, 4]\n",
    "\n",
    "list=[1,2,3,4]\n",
    "print(\"List before appending 10 : \",list)\n",
    "\n",
    "list.append(10) #adding 10 to list\n",
    "\n",
    "print(\"List after appending 10 : \" ,list)"
   ]
  },
  {
   "cell_type": "code",
   "execution_count": 9,
   "id": "19ca20c4",
   "metadata": {},
   "outputs": [
    {
     "name": "stdout",
     "output_type": "stream",
     "text": [
      "List before removing 3 :  [1, 2, 3, 4, 5]\n",
      "List after removing 3 :  [1, 2, 4, 5]\n"
     ]
    }
   ],
   "source": [
    "#8 Write a code to remove the number 3 from the list [1, 2, 3, 4, 5]\n",
    "\n",
    "list=[1,2,3,4,5]\n",
    "print(\"List before removing 3 : \",list)\n",
    "\n",
    "list.remove(3) #remove 3 from list\n",
    "\n",
    "print(\"List after removing 3 : \" ,list)"
   ]
  },
  {
   "cell_type": "code",
   "execution_count": null,
   "id": "fa07a68c",
   "metadata": {},
   "outputs": [
    {
     "name": "stdout",
     "output_type": "stream",
     "text": [
      "The second element in the list : b\n"
     ]
    }
   ],
   "source": [
    "#9 Write a code to access the second element in the list ['a', 'b', 'c', 'd']\n",
    "\n",
    "list=['a', 'b', 'c', 'd']\n",
    "\n",
    "'''acessing second element of list the indexing of list starts with 0 . Therefore element at index 1 is second elemnt of list '''\n",
    "second_element=list[1]\n",
    "\n",
    "print(\"The second element in the list :\",second_element)"
   ]
  },
  {
   "cell_type": "code",
   "execution_count": 13,
   "id": "13adf11e",
   "metadata": {},
   "outputs": [
    {
     "name": "stdout",
     "output_type": "stream",
     "text": [
      "Orginal List [10, 20, 30, 40, 50]\n",
      "Reversed list by reverse function  [50, 40, 30, 20, 10]\n"
     ]
    }
   ],
   "source": [
    "#10  Write a code to reverse the list [10, 20, 30, 40, 50]\n",
    "\n",
    "list=[10, 20, 30, 40, 50]\n",
    "print(\"Orginal List\",list)\n",
    "\n",
    "\n",
    "\n",
    "#revrse inbuiltfunction\n",
    "list.reverse()\n",
    "print(\"Reversed list by reverse function \",list)\n",
    "\n"
   ]
  },
  {
   "cell_type": "code",
   "execution_count": 14,
   "id": "61ceb8a4",
   "metadata": {},
   "outputs": [
    {
     "name": "stdout",
     "output_type": "stream",
     "text": [
      "Tuple : (100, 200, 300)\n"
     ]
    }
   ],
   "source": [
    "#11 Write a code to create a tuple with the elements 100, 200, 300 and print it\n",
    "\n",
    "tuple=(100, 200, 300 )\n",
    "\n",
    "print(\"Tuple :\",tuple)"
   ]
  },
  {
   "cell_type": "code",
   "execution_count": 15,
   "id": "2d7fae47",
   "metadata": {},
   "outputs": [
    {
     "name": "stdout",
     "output_type": "stream",
     "text": [
      "Accessing second-to-last element of tuple :  blue\n"
     ]
    }
   ],
   "source": [
    "#12 Write a code to access the second-to-last element of the tuple ('red', 'green', 'blue', 'yellow')\n",
    "\n",
    "tuple=('red', 'green', 'blue', 'yellow')\n",
    "\n",
    "'''acessing second-to-last element of tuple the indexing of list starts with -1 from last . Therefore element at index -2 access the second-to-last element'''\n",
    "print(\"Accessing second-to-last element of tuple : \",tuple[-2])"
   ]
  },
  {
   "cell_type": "code",
   "execution_count": null,
   "id": "fbce8da2",
   "metadata": {},
   "outputs": [
    {
     "name": "stdout",
     "output_type": "stream",
     "text": [
      "Minimum value in the tuple : 5\n"
     ]
    }
   ],
   "source": [
    "#13 Write a code to find the minimum number in the tuple (10, 20, 5, 15)\n",
    "\n",
    "tuple=(10, 20, 5, 15)\n",
    "print(\"Minimum value in the tuple :\",min(tuple))"
   ]
  },
  {
   "cell_type": "code",
   "execution_count": null,
   "id": "47b06c2d",
   "metadata": {},
   "outputs": [
    {
     "name": "stdout",
     "output_type": "stream",
     "text": [
      "index of the cat : 1\n"
     ]
    }
   ],
   "source": [
    "#14 Write a code to find the index of the element \"cat\" in the tuple ('dog', 'cat', 'rabbit')\n",
    "\n",
    "tuple=('dog', 'cat', 'rabbit')\n",
    "print(\"index of the cat :\",tuple.index(\"cat\")) "
   ]
  },
  {
   "cell_type": "code",
   "execution_count": 19,
   "id": "640fefab",
   "metadata": {},
   "outputs": [
    {
     "name": "stdout",
     "output_type": "stream",
     "text": [
      "Tuple1 contain kiwi : True\n",
      "Tuple2 contain kiwi : False\n"
     ]
    }
   ],
   "source": [
    "#15 Write a code to create a tuple containing three different fruits and check if \"kiwi\" is in it\n",
    "\n",
    "tuple1 = (\"banana\" , \"apple\", \"kiwi\")\n",
    "tuple2= (\"papaya\" , \"orange\", \"grapes\" )\n",
    "\n",
    "result1= \"kiwi\" in tuple1\n",
    "result2= \"kiwi\" in tuple2\n",
    "\n",
    "print(\"Tuple1 contain kiwi :\",result1)\n",
    "print(\"Tuple2 contain kiwi :\",result2)"
   ]
  },
  {
   "cell_type": "code",
   "execution_count": null,
   "id": "9eb562c7",
   "metadata": {},
   "outputs": [
    {
     "name": "stdout",
     "output_type": "stream",
     "text": [
      "Set {'c', 'a', 'b'}\n"
     ]
    }
   ],
   "source": [
    "#16  Write a code to create a set with the elements 'a', 'b', 'c' and print it\n",
    "\n",
    "set1={\"a\",\"b\",\"c\"}\n",
    "\n",
    "print(\"Set\",set1)"
   ]
  },
  {
   "cell_type": "code",
   "execution_count": 77,
   "id": "7b567a66",
   "metadata": {},
   "outputs": [
    {
     "name": "stdout",
     "output_type": "stream",
     "text": [
      "Before clearing the set:  {1, 2, 3, 4, 5}\n",
      "After clearing the set:  None\n"
     ]
    }
   ],
   "source": [
    "#17 Write a code to clear all elements from the set {1, 2, 3, 4, 5}.\n",
    "\n",
    "set_01={1, 2, 3, 4, 5}\n",
    "print(\"Before clearing the set: \" ,set_01)\n",
    "\n",
    "#clear it empty the set\n",
    "set_01=set.clear()\n",
    "print(\"After clearing the set: \",set_01)"
   ]
  },
  {
   "cell_type": "code",
   "execution_count": null,
   "id": "2b1ba68a",
   "metadata": {},
   "outputs": [],
   "source": []
  },
  {
   "cell_type": "code",
   "execution_count": 22,
   "id": "e46a7cb7",
   "metadata": {},
   "outputs": [
    {
     "name": "stdout",
     "output_type": "stream",
     "text": [
      "Before removing 4 from the set: {1, 2, 3, 4}\n",
      "After removing 4 from the set: {1, 2, 3}\n"
     ]
    }
   ],
   "source": [
    "#18  Write a code to remove the element 4 from the set {1, 2, 3, 4}.\n",
    "\n",
    "my_set = {1, 2, 3, 4}\n",
    "print(\"Before removing 4 from the set:\", my_set)\n",
    "\n",
    "# remove the element\n",
    "my_set.remove(4)\n",
    "\n",
    "print(\"After removing 4 from the set:\", my_set)"
   ]
  },
  {
   "cell_type": "code",
   "execution_count": 25,
   "id": "19559d7c",
   "metadata": {},
   "outputs": [
    {
     "name": "stdout",
     "output_type": "stream",
     "text": [
      "Union of set with union fuction : {1, 2, 3, 4, 5}\n",
      "Union of set with '|': {1, 2, 3, 4, 5}\n"
     ]
    }
   ],
   "source": [
    "#19 Write a code to find the union of two sets {1, 2, 3} and {3, 4, 5}\n",
    "\n",
    "s1={1, 2, 3}\n",
    "s2={3, 4, 5}\n",
    "\n",
    "#using union function  returns unquie element of set\n",
    "print(\"Union of set with union fuction :\",s1.union(s2))\n",
    "\n",
    "# union with \"| \"\n",
    "print(\"Union of set with '|':\",s1|s2)"
   ]
  },
  {
   "cell_type": "code",
   "execution_count": 26,
   "id": "0619239a",
   "metadata": {},
   "outputs": [
    {
     "name": "stdout",
     "output_type": "stream",
     "text": [
      "Intersection of set with intersection function : {2, 3}\n",
      "Intersection of set with '&' : {2, 3}\n"
     ]
    }
   ],
   "source": [
    "#20  Write a code to find the intersection of two sets {1, 2, 3} and {2, 3, 4}\n",
    "\n",
    "s1={1, 2, 3}\n",
    "s2={2, 3, 4}\n",
    "\n",
    "#using intersection function  returns common element of set\n",
    "print(\"Intersection of set with intersection function :\",s1.intersection(s2))\n",
    "\n",
    "# Intersection with \"& \"\n",
    "print(\"Intersection of set with '&' :\",s1&s2)"
   ]
  },
  {
   "cell_type": "code",
   "execution_count": 28,
   "id": "e80c28e7",
   "metadata": {},
   "outputs": [
    {
     "name": "stdout",
     "output_type": "stream",
     "text": [
      "Dictionary : {'name': 'Somdeb', 'age': '26', 'city': 'Tinsukia'}\n"
     ]
    }
   ],
   "source": [
    "#21  Write a code to create a dictionary with the keys \"name\", \"age\", and \"city\", and print it\n",
    "\n",
    "my_dict={\"name\":\"Somdeb\",\"age\":\"26\",\"city\":\"Tinsukia\"}\n",
    "print(\"Dictionary :\",my_dict)"
   ]
  },
  {
   "cell_type": "code",
   "execution_count": 29,
   "id": "82d16eb1",
   "metadata": {},
   "outputs": [
    {
     "name": "stdout",
     "output_type": "stream",
     "text": [
      "Dictionary before adding new key-value pair : {'name': 'John', 'age': 25}\n",
      "Dictionary after adding new key-value pair : {'name': 'John', 'age': 25, 'country': 'USA'}\n"
     ]
    }
   ],
   "source": [
    "#22 Write a code to add a new key-value pair \"country\": \"USA\" to the dictionary {'name': 'John', 'age': 25}\n",
    "\n",
    "my_dict={'name': 'John', 'age': 25}\n",
    "print(\"Dictionary before adding new key-value pair :\",my_dict)\n",
    "my_dict[\"country\"] = \"USA\" #adding element\n",
    "print(\"Dictionary after adding new key-value pair :\",my_dict)"
   ]
  },
  {
   "cell_type": "code",
   "execution_count": 31,
   "id": "1e968c31",
   "metadata": {},
   "outputs": [
    {
     "name": "stdout",
     "output_type": "stream",
     "text": [
      "The value associated with keyword name : Alice\n"
     ]
    }
   ],
   "source": [
    "#23 Write a code to access the value associated with the key \"name\" in the dictionary {'name': 'Alice', 'age': 30}\n",
    "\n",
    "my_dict={'name': 'Alice', 'age': 30}\n",
    "print(\"The value associated with keyword name :\",my_dict.get(\"name\")) #accessing the value associated with the key \"name\""
   ]
  },
  {
   "cell_type": "code",
   "execution_count": 32,
   "id": "8b6ffbcc",
   "metadata": {},
   "outputs": [
    {
     "name": "stdout",
     "output_type": "stream",
     "text": [
      "Before removing age : {'name': 'Bob', 'age': 22, 'city': 'New York'}\n",
      "After removing age : {'name': 'Bob', 'city': 'New York'}\n"
     ]
    }
   ],
   "source": [
    "#24 Write a code to remove the key \"age\" from the dictionary {'name': 'Bob', 'age': 22, 'city': 'New York'}\n",
    "\n",
    "my_dict={'name': 'Bob', 'age': 22, 'city': 'New York'}\n",
    "print(\"Before removing age :\",my_dict)\n",
    "\n",
    "# removing age\n",
    "my_dict.pop(\"age\")\n",
    "print(\"After removing age :\",my_dict)"
   ]
  },
  {
   "cell_type": "code",
   "execution_count": 33,
   "id": "6d67f4cf",
   "metadata": {},
   "outputs": [
    {
     "name": "stdout",
     "output_type": "stream",
     "text": [
      "Dictionary contain city\n"
     ]
    }
   ],
   "source": [
    "#25 Write a code to check if the key \"city\" exists in the dictionary {'name': 'Alice', 'city': 'Paris'}.\n",
    "\n",
    "my_dict={'name': 'Alice', 'city': 'Paris'}\n",
    "\n",
    "if \"city\" in my_dict.keys():\n",
    "  print(\"Dictionary contain city\")\n",
    "else:\n",
    "  print(\"False\")\n"
   ]
  },
  {
   "cell_type": "code",
   "execution_count": 38,
   "id": "7b21f8b8",
   "metadata": {},
   "outputs": [
    {
     "name": "stdout",
     "output_type": "stream",
     "text": [
      "my_list :[4, 7.5, 'somdeb', False, True]\n",
      "\n",
      "my_tuple :(2, 4, 6, 8)\n",
      "\n",
      "my_dict :{'E ID': '001A', 'post': 'Manager'}\n"
     ]
    }
   ],
   "source": [
    "#26 Write a code to create a list, a tuple, and a dictionary, and print them all.\n",
    "\n",
    "my_list=[4,7.5,\"somdeb\",False,True]\n",
    "my_tuple=(2,4,6,8)\n",
    "my_dict={'E ID': '001A', 'post': 'Manager'}\n",
    "\n",
    "print(f\"my_list :{my_list}\")\n",
    "print()\n",
    "print(f\"my_tuple :{my_tuple}\")\n",
    "print()\n",
    "print(f\"my_dict :{my_dict}\")"
   ]
  },
  {
   "cell_type": "code",
   "execution_count": 39,
   "id": "e873043b",
   "metadata": {},
   "outputs": [
    {
     "name": "stdout",
     "output_type": "stream",
     "text": [
      "list before sorting : [37, 62, 61, 40, 30]\n",
      "Sorted random numbers: [30, 37, 40, 61, 62]\n"
     ]
    }
   ],
   "source": [
    "#27 Write a code to create a list of 5 random numbers between 1 and 100, sort it in ascending order, and print the result .(replaced)\n",
    "\n",
    "import random\n",
    "\n",
    "# List with random 5 numbers\n",
    "random_numbers = random.sample(range(1, 101), 5)\n",
    "print(\"list before sorting :\",random_numbers)\n",
    "\n",
    "# sort function sort the list in ascending order\n",
    "random_numbers.sort()\n",
    "\n",
    "\n",
    "print(\"Sorted random numbers:\", random_numbers)"
   ]
  },
  {
   "cell_type": "code",
   "execution_count": 41,
   "id": "b03bd7fa",
   "metadata": {},
   "outputs": [
    {
     "name": "stdout",
     "output_type": "stream",
     "text": [
      "Element at index 3: papaya\n"
     ]
    }
   ],
   "source": [
    "#28 Write a code to create a list with strings and print the element at the third index\n",
    "\n",
    "my_list = [\"apple\", \"banana\", \"cherry\", \"papaya\", \"grapes\"]\n",
    "print(\"Element at index 3:\", my_list[3])"
   ]
  },
  {
   "cell_type": "code",
   "execution_count": 42,
   "id": "0e60c71c",
   "metadata": {},
   "outputs": [
    {
     "name": "stdout",
     "output_type": "stream",
     "text": [
      "Dict 1 :  {'name': 'Alice', 'city': 'Paris'}\n",
      "Dict 2 :  {'age': 24, 'gender': 'Male'}\n",
      "\n",
      "Dictionary 1 after combing both dictionary : {'name': 'Alice', 'city': 'Paris', 'age': 24, 'gender': 'Male'}\n"
     ]
    }
   ],
   "source": [
    "#29  Write a code to combine two dictionaries into one and print the result.\n",
    "\n",
    "dict1={'name': 'Alice', 'city': 'Paris'}\n",
    "dict2 ={'age':24,'gender':'Male'}\n",
    "\n",
    "print(\"Dict 1 : \",dict1)\n",
    "print(\"Dict 2 : \",dict2)\n",
    "print()\n",
    "# update function extend or combine the list\n",
    "dict1.update(dict2)\n",
    "\n",
    "print(\"Dictionary 1 after combing both dictionary :\" , dict1)"
   ]
  },
  {
   "cell_type": "code",
   "execution_count": 75,
   "id": "f22aa216",
   "metadata": {},
   "outputs": [
    {
     "name": "stdout",
     "output_type": "stream",
     "text": [
      "list:  ['apple', 'banana', 'apple', 'papaya', 'grapes']\n",
      "\n",
      "list after converting into set {'apple', 'banana', 'papaya', 'grapes'}\n"
     ]
    }
   ],
   "source": [
    "#30 Write a code to convert a list of strings into a set.\n",
    "\n",
    "\n",
    "import builtins\n",
    "\n",
    "my_list=[\"apple\",\"banana\",\"apple\",\"papaya\",\"grapes\"]\n",
    "my_set = builtins.set(my_list)\n",
    "\n",
    "print(\"list: \", my_list)\n",
    "print()\n",
    "print(\"list after converting into set\" ,my_set)"
   ]
  }
 ],
 "metadata": {
  "kernelspec": {
   "display_name": "Python 3",
   "language": "python",
   "name": "python3"
  },
  "language_info": {
   "codemirror_mode": {
    "name": "ipython",
    "version": 3
   },
   "file_extension": ".py",
   "mimetype": "text/x-python",
   "name": "python",
   "nbconvert_exporter": "python",
   "pygments_lexer": "ipython3",
   "version": "3.13.5"
  }
 },
 "nbformat": 4,
 "nbformat_minor": 5
}
