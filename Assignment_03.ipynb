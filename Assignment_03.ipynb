{
  "nbformat": 4,
  "nbformat_minor": 0,
  "metadata": {
    "colab": {
      "provenance": []
    },
    "kernelspec": {
      "name": "python3",
      "display_name": "Python 3"
    },
    "language_info": {
      "name": "python"
    }
  },
  "cells": [
    {
      "cell_type": "markdown",
      "source": [
        "**Functions**"
      ],
      "metadata": {
        "id": "vXTSmfZLzxMJ"
      }
    },
    {
      "cell_type": "markdown",
      "source": [
        "Q1. What is the difference between a function and a\n",
        " method in Python?\n",
        "\n",
        "\n",
        "  Explanation:\n",
        "\n",
        "  Function -\n",
        "1.   A block of code that performs a task.\n",
        "2.   Called directly using its name.\n",
        "3.   Not associated with any object.\n",
        "4.  General purpose code reusable anywhere.\n",
        "\n",
        "Example:\n",
        "\n",
        "\n",
        "```\n",
        " def greet(name):\n",
        "    return f\"Hello, {name}!\"\n",
        " print(greet(\"Somdev\"))      # Calling a function directly\n",
        "\n",
        "                             # Output: Hello, Somdev\n",
        "```\n",
        "\n",
        "\n",
        "Method -\n",
        "1.  A function that belongs to an object.\n",
        "2.  Called using the object (e.g., obj.method()).\n",
        "3. Always associated with an object or class.\n",
        "4. Works specifically with the object it belongs to\n",
        "\n",
        "Example:\n",
        "```\n",
        " text = \"hello world\"\n",
        " print(text.upper())  # Calling a method belonging to string object\n",
        "                       # Output: HELLO WORLD\n",
        "```"
      ],
      "metadata": {
        "id": "w4_gicITz1o4"
      }
    },
    {
      "cell_type": "markdown",
      "source": [
        " Q2. Explain the concept of function arguments and\n",
        " parameters in Python?\n",
        "\n",
        "  Explanation:\n",
        "*   Parameters →\n",
        " Variables defined in the function definition that accept input values.\n",
        "*   Arguments →\n",
        " Actual values passed to the function when it is called.\n",
        "*  Python supports different types of arguments:\n",
        " 1. **Positional arguments**\n",
        " 2. **Keyword arguments**\n",
        " 3. **Default arguments**\n",
        " 4. **Variable-length argument**\n",
        "\n",
        "\n",
        " Example:\n",
        "\n",
        "\n",
        "```\n",
        " #Function with parameters\n",
        " def greet(name, message=\"Good Morning\"):\n",
        "  return f\"Hello {name}, {message}!\"\n",
        "\n",
        " #Positional argument\n",
        " print(greet(\"Somdev\"))    #Output: Hello Somdev, Good Morning!\n",
        "\n",
        " #Keyword argument\n",
        " print(greet(name=\"Somdev\", message=\"Welcome to Python\"))\n",
        "                \n",
        "                #Output: Hello Somdev, Welcome to Python!\n",
        "\n",
        " #Default argument\n",
        " print(greet(\"Somdev\"))   #Output: Hello Somdev, Good Morning\n",
        "```"
      ],
      "metadata": {
        "id": "AC8UiUIp2Ndo"
      }
    },
    {
      "cell_type": "markdown",
      "source": [
        " Q3. Different ways to define and call a function in Python?\n",
        "\n",
        " Explanation:\n",
        "\n",
        "* Functions are reusable blocks of code that perform a specific\n",
        "task. In Python, you can define and call functions in multiple ways:\n",
        "\n",
        " 1. **Standard function** (\n",
        " def\n",
        " )\n",
        "\n",
        " * Defined using the def keyword.\n",
        " * Can accept parameters and return values.\n",
        "\n",
        " 2. **Lambda function**\n",
        "\n",
        " * Also called an anonymous function.\n",
        " * Defined using lambda keyword, usually for simple, single-line tasks.\n",
        " 3. **Nested function**\n",
        "\n",
        " * A function defined inside another function.\n",
        " * Useful for encapsulation and keeping helper functions local to the outer function.\n",
        "\n",
        "\n",
        " .\n",
        "\n",
        "\n",
        "\n",
        "*   Calling a function involves using its name followed by parentheses ()\n",
        "*   Arguments can be passed when calling functions to provide input values\n",
        "\n",
        "\n",
        "Examples :\n",
        "\n",
        "```\n",
        "# 1. Standard function\n",
        " def greet(name):\n",
        "    return f\"Hello {name}!\"\n",
        " print(greet(\"Somdev\"))  # Calling standard function\n",
        "                        # Output: Hello Somdev!\n",
        " # 2. Lambda function\n",
        " square = lambda x: x**2\n",
        " print(square(5))        # Calling lambda function\n",
        "                        # Output: 25\n",
        " # 3. Nested function\n",
        " def outer():\n",
        "    def inner():\n",
        "        return \"This is a nested function\"\n",
        "    return inner()      # Calling inner function inside outer\n",
        " print(outer())          # Output: This is a nested function\n",
        "```\n",
        "\n"
      ],
      "metadata": {
        "id": "RPGrV5be61je"
      }
    },
    {
      "cell_type": "markdown",
      "source": [
        "Q4. What is the purpose of the return statement in a Python function?\n",
        "\n",
        " Explanation:\n",
        "\n",
        " * The return statement is used to **send a result from a function back to the caller.**\n",
        " * Without return, a function returns None by default.\n",
        " * return\n",
        " allows functions to produce **a value that can be stored, printed, or used in other operations.**\n",
        " * It also helps in **breaking out of a function** immediately\n",
        "\n",
        " Examples:\n",
        "\n",
        "\n",
        "```\n",
        "# Function using return\n",
        " def greet(name):\n",
        "    return f\"Hello {name}!\"\n",
        "\n",
        " # Using the returned value\n",
        " message = greet(\"Somdev\")\n",
        " print(message)                # Output: Hello Somdev!\n",
        "\n",
        " # Function without return\n",
        "def greet_no_return(name):\n",
        "    print(f\"Hello {name}!\")   # Output: Hello Somdev!\n",
        "    \n",
        " result = greet_no_return(\"Somdev\")\n",
        " print(result)                 # Output: Will print Non\n",
        "```\n",
        "\n"
      ],
      "metadata": {
        "id": "1LH75gkA8WaP"
      }
    },
    {
      "cell_type": "markdown",
      "source": [
        "Q5. What are iterators in Python and how do they differ\n",
        " from iterables?\n",
        "\n",
        " Explanation:\n",
        " * **Iterable**: Any Python object capable of returning its elements one by one. e.g., *list, tuple, string, set or dictionary*\n",
        " >  You can loop over it using a for loop.\n",
        "\n",
        "\n",
        "\n",
        "\n",
        "* **Iterator**: An object that produces elements one at a time and keeps track of its current position\n",
        "> Created from an iterable using the iter() function.\n",
        "* > Use next() to access elements individually.\n",
        "\n",
        "### **Key Differences Between Iterable and Iterator:**\n",
        "**Iterable:**\n",
        "*    Can be looped over to access elements.\n",
        "*   Any collection type (list, tuple, etc)\n",
        "*   Use for loop\n",
        "\n",
        "\n",
        "\n",
        " **Iterator:**\n",
        " *   Produces elements one by one on demand.\n",
        " *  Created from an iterable using iter()\n",
        " *  Use next() function.\n",
        "\n",
        "\n",
        "\n",
        "```\n",
        "  Example:\n",
        " # Iterable example\n",
        " fruits = [\"apple\", \"banana\", \"cherry\"]  # This is an iterable\n",
        "\n",
        " print(\"Iterable output:\")               \n",
        "for fruit in fruits:\n",
        "    print(fruit)                         # Output: apple\n",
        "\n",
        "                                         # Output: banana\n",
        "\n",
        "                                         # Output: cherry\n",
        "\n",
        "\n",
        " # Iterator example\n",
        " fruits_iter = iter(fruits)               # Convert iterable to iterator\n",
        "\n",
        "print(\"\\nIterator output using next():\")\n",
        "\n",
        "print(next(fruits_iter))  # Output : apple\n",
        "\n",
        "print(next(fruits_iter))  # Output: banana\n",
        "\n",
        "print(next(fruits_iter))   # Output: cherry\n",
        "\n",
        "\n",
        " ```\n"
      ],
      "metadata": {
        "id": "msqC4jAu-tAG"
      }
    },
    {
      "cell_type": "markdown",
      "source": [
        "Q6. Explain the concept of generators in Python and how\n",
        " they are defined?\n",
        "\n",
        "  Explanation:\n",
        "\n",
        "  *   Generators are special iterators that generate values on the fly instead of storing them in memory.\n",
        "  *  They are memory-efficient and useful for large datasets or streams of data.\n",
        "  *  Generators are defined in two main ways:\n",
        "      1.    Using a function with the ***yield***  statement.\n",
        "      2.   Using **generator expressions** (similar to list comprehensions but with parentheses)\n",
        "*  Each call to next() on a generator produces the next value until the generator is exhausted.\n",
        "\n",
        "\n",
        "**Example using yield :**\n",
        "\n",
        "```\n",
        " # Generator function:\n",
        "\n",
        " def greet_generator(names):\n",
        "    for name in names:\n",
        "        yield f\"Hello {name}!\"\n",
        "\n",
        " names_list = [\"Dev\", \"Shyam\", \"Kartik\"]\n",
        "\n",
        " # Create generator\n",
        " gen = greet_generator(names_list)\n",
        "\n",
        " # Access values one by one\n",
        "\n",
        "print(next(gen))   # Output: Hello Dev!\n",
        "print(next(gen))   # Output: Hello Shyam!\n",
        "print(next(gen))   # Output: Hello KArtik!\n",
        "\n",
        "\n",
        "\n",
        "# Generator expression\n",
        " squares = (x**2 for x in range(1, 3))\n",
        "\n",
        " print(next(squares))  # Output: 1\n",
        " print(next(squares))  # Output: 4\n",
        "\n",
        "```\n",
        "\n"
      ],
      "metadata": {
        "id": "lxgYqGXrrQjv"
      }
    },
    {
      "cell_type": "markdown",
      "source": [
        " Q7. What are the advantages of using generators over regular functions?\n",
        "\n",
        " **Explanation:**\n",
        "\n",
        " Generators provide several advantages over regular functions that return lists:\n",
        "  1. **Memory Efficiency**\n",
        "      *  Generators produce values one at a time and do not store the entire sequence in memory.\n",
        "      *  Useful for large datasets.\n",
        "\n",
        "\n",
        "  2.   **Lazy Evaluation**\n",
        "        *    Values are computed only when needed using next().\n",
        "\n",
        "        *   Reduces unnecessary computations.\n",
        "\n",
        "\n",
        " 3.   **Represent Infinite Sequences**\n",
        "      *    Generators can model **infinite series** (like Fibonacci numbers) which is impossible\n",
        " with lists.\n",
        "\n",
        " 4.   **Pipeline Processing**\n",
        "      * Generators can be chained together to create pipelines, processing data efficiently.\n",
        "\n",
        "\n",
        "\n",
        "```\n",
        "Example:\n",
        " # Generator function\n",
        " def greet_generator(names):\n",
        "    for name in names:\n",
        "        yield f\"Hello {name}!\"\n",
        "\n",
        " names_list = [\"Dev\", \"Shyam\", \"Kartik\"]\n",
        "\n",
        " gen = greet_generator(names_list\n",
        " print(next(gen))  # Output: Hello Dev!\n",
        " print(next(gen))  # Output: Hello Shyam!\n",
        " print(next(gen))  # Output: Hello Kartik!\n",
        "\n",
        " # Memory efficiency demonstration\n",
        " numbers = (x**2 for x in range(1, 1000000))  # Generator for 1 million squares\n",
        " print(next(numbers))  # Output: 1\n",
        " print(next(numbers))  # Output: 4\n",
        " print(next(numbers))  # Output: 9\n",
        " print(next(numbers))  # Output: 16\n",
        "```\n",
        "\n"
      ],
      "metadata": {
        "id": "tGsQC242tcLS"
      }
    },
    {
      "cell_type": "markdown",
      "source": [
        " Q8. What is a lambda function in Python and when is it typically used?\n",
        "\n",
        "  **Explanation:**\n",
        "*    **Lambda functions** are anonymous, one-line functions in Python that do not require a formal def block\n",
        "*   They are defined using the\n",
        "lambda **keyword**, followed by **arguments** and a **single expression**.\n",
        "*   Lambda functions are commonly used when you need a small, temporary function without cluttering your code.\n",
        "*Typical use cases include functional programming, inline operations, and passing functions as arguments to higher-order functions like map(), filter(), or sorted().\n",
        "*  Advantages: concise, readable for small operations, and memory-efficient since they don’t\n",
        " require a full function definition.\n",
        "\n",
        "**Syntax:**\n",
        "\n",
        "lambda arguments: expression\n",
        "\n",
        "### Characteristics & Usage:\n",
        "*  **Concise** — Perfect for small, one-off operations.\n",
        "*   **Inline** — Can be defined and used in a single line'\n",
        "*   **Functional programming** — Ideal for passing as arguments to functions like map(), filter(), or reduce().\n",
        "*  **Single expression only** — Cannot contain multiple statements or complex logic.\n",
        "*  **Temporary & lightweight** — Great for quick tasks without cluttering your code with full\n",
        " function definitions\n",
        "\n",
        "  **Example 1: Basic Lambda**\n",
        "\n",
        "\n",
        "```\n",
        " # Lambda to greet Somdev\n",
        " greet = lambda name: f\"Hello {name}!\"\n",
        " print(greet(\"Somdev\"))  # Output: Hello Somdev!\n",
        "```\n",
        "\n",
        "\n",
        " **Example 2: Lambda with map()**\n",
        "\n",
        "```\n",
        "numbers = [1, 2, 3, 4, 5]\n",
        " # Square each number using lambda\n",
        " squares = list(map(lambda x: x**2, numbers))\n",
        " print(squares)  # Output: [1, 4, 9, 16, 25]\n",
        "```\n",
        "\n",
        " **Example 3: Lambda with filter()**\n",
        "\n",
        "\n",
        "```\n",
        " # Filter numbers greater than 2\n",
        " filtered = list(filter(lambda x: x > 2, numbers))\n",
        " print(filtered)  # Output: [3, 4, 5]\n",
        "```\n",
        "**Example 4: Lambda with reduce()**\n",
        "\n",
        "\n",
        "```\n",
        "from functools import reduce\n",
        "\n",
        " # Sum all numbers using reduce and lambda\n",
        " total = reduce(lambda x, y: x + y, numbers)\n",
        " print(total)  # Output: 15\n",
        "```\n",
        "\n",
        "\n"
      ],
      "metadata": {
        "id": "hxs3HtXiv99Z"
      }
    },
    {
      "cell_type": "markdown",
      "source": [
        " Q9. Explain the purpose and usage of the\n",
        "map() functionin Python?\n",
        "\n",
        "**Explanation:**\n",
        "*  The **map()** function applies a given function to each item of an iterable (like a list, tuple,etc.) and returns a map object, which is an iterator\n",
        "*   Useful when you want to perform the same operation on multiple items without using a\n",
        " loop.\n",
        " *   **Lazy evaluation**: the values are computed only when iterated, saving memory for large datasets.\n",
        "\n",
        "## Common Uses of map():\n",
        "* Transforming all elements in a list/tuple without using a loop.\n",
        "*  Applying mathematical operations to all elements.\n",
        "*  Preprocessing or cleaning data in bulk, e.g., converting strings to uppercase.\n",
        "*  Chaining with filter()or reduce()\n",
        " for functional programming pipelines.\n",
        "*   Syntax:\n",
        "\n",
        "       map(function, iterable)\n",
        "\n",
        "\n",
        "  **Example 1: Basic map with a named function**  \n",
        "\n",
        "\n",
        "\n",
        "```\n",
        " # Function to greet a person\n",
        " def greet(name):\n",
        "    return f\"Hello {name}!\"\n",
        "\n",
        " names = [\"Dev\", \"Shyam\", \"Kartik\"]\n",
        "\n",
        " # Apply greet function to each name\n",
        " greetings = map(greet, names)\n",
        "\n",
        " # Convert to list and print\n",
        " print(list(greetings))  \n",
        "# Output: ['Hello Dev!', 'Hello Shyam!', 'Hello Kartik!']\n",
        "```\n",
        "\n",
        " **Example 2: map with lambda function**\n",
        "\n",
        "\n",
        "```\n",
        " numbers = [1, 2, 3, 4, 5]\n",
        "\n",
        " # Square each number using lambda and map\n",
        " squared = map(lambda x: x**2, numbers)\n",
        "\n",
        " print(list(squared))  \n",
        "# Output: [1, 4, 9, 16, 25]\n",
        "```\n",
        "\n",
        "  **Example 3: map with Multiple iterables**\n",
        "\n",
        "```\n",
        "numbers1 = [1, 2, 3]\n",
        "numbers2 = [4, 5, 6]\n",
        "\n",
        " # Add corresponding elements from two lists\n",
        " sum_list = map(lambda x, y: x + y, numbers1, numbers2)\n",
        "\n",
        " print(list(sum_list))  \n",
        "# Output: [5, 7, 9]\n",
        "```\n",
        "\n"
      ],
      "metadata": {
        "id": "6lpC3iJLydZK"
      }
    },
    {
      "cell_type": "markdown",
      "source": [
        " Q10. What is the difference between\n",
        "map(), reduce(), and filter() functions in Python?\n",
        "\n",
        "**Explanation:**\n",
        " Python provides built-in functional programming tools like map(), reduce(), and filter()to process iterables efficiently:\n",
        "\n",
        "**Key Differences:**\n",
        "1.  **Purpose:**\n",
        "      *  map() → changes/transforms every element in an iterable.\n",
        "      *  filter() → chooses only certain elements that satisfy a condition\n",
        "      *  reduce() → combines all elements to produce a single result.\n",
        "\n",
        "2.  **Return Type:**\n",
        "      *  map()and filter() return iterators, which can be converted to a list.\n",
        "      *  reduce() returns a single value.\n",
        "3.  **Number of Iterables:**\n",
        "      *   map()can work with one or more iterables.\n",
        "      *  filter() works with one iterable.\n",
        "      *   reduce() works with one iterable.\n",
        "\n",
        "\n",
        "4.  **Use Case Example:**\n",
        "      *  map()→ Transforming [1,2,3] into [1,4,9] (squares).\n",
        "      *  filter() → Picking [3,4,5] from [1,2,3,4,5] (numbers >2).\n",
        "      *  reduce() → Summing [1,2,3,4,5] into 15.\n",
        "\n",
        "## Example 1: map()\n",
        "\n",
        "\n",
        "```\n",
        " numbers = [1, 2, 3, 4, 5]\n",
        "\n",
        " # Square each number\n",
        " squared = map(lambda x: x**2, numbers)\n",
        " print(list(squared))       # Output: [1, 4, 9, 16, 25]\n",
        "```\n",
        "\n",
        "## Example 2: filter()\n",
        "```\n",
        "numbers = [1, 2, 3, 4, 5]\n",
        "\n",
        " # Keep numbers greater than 2\n",
        " filtered = filter(lambda x: x > 2, numbers)\n",
        " print(list(filtered))     # Output: [3, 4, 5]\n",
        "```\n",
        "\n",
        "\n",
        "## Example 2: reduce()\n",
        "\n",
        "```\n",
        "from functools import reduce\n",
        "\n",
        " numbers = [1, 2, 3, 4, 5]\n",
        "\n",
        " # Sum all numbers cumulatively\n",
        " total = reduce(lambda x, y: x + y, numbers)\n",
        " print(total)             # Output: 15\n",
        "```"
      ],
      "metadata": {
        "id": "tA5YjySN07Ws"
      }
    },
    {
      "cell_type": "markdown",
      "source": [
        " Q11. Using pen & Paper write the internal mechanism for\n",
        " sum operation using reduce function on this given list:\n",
        " [47,11,42,13]; (Attach paper image for this answer) in doc:![11_q.jpg](data:image/jpeg;base64,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)\n",
        "\n",
        "\n"
      ],
      "metadata": {
        "id": "DGL9Dutz6a33"
      }
    },
    {
      "cell_type": "markdown",
      "source": [
        "**Practical Questions**"
      ],
      "metadata": {
        "id": "g1DYDrAK-iIi"
      }
    },
    {
      "cell_type": "code",
      "source": [
        " #Q1. Write a Python function that takes a list of numbers as input and returns the sum of all even numbers in the list.\n",
        "\n",
        "def sum_of_evens(nums):\n",
        "  return sum(n for n in nums if n % 2 == 0)\n",
        "\n",
        "print(sum_of_evens([1, 2, 3, 4, 5, 6, 7, 8]))"
      ],
      "metadata": {
        "colab": {
          "base_uri": "https://localhost:8080/"
        },
        "id": "KJlb7FR0-mz5",
        "outputId": "ce8b5f5f-e8cd-4472-f76d-19ed8cb889f6"
      },
      "execution_count": 2,
      "outputs": [
        {
          "output_type": "stream",
          "name": "stdout",
          "text": [
            "20\n"
          ]
        }
      ]
    },
    {
      "cell_type": "code",
      "source": [
        "#Q2. Create a Python function that accepts a string and returns the reverse of that string?\n",
        "\n",
        "def reverse_string(s):\n",
        "  return s[::-1]\n",
        "print(reverse_string(\"Somdeb\"))"
      ],
      "metadata": {
        "colab": {
          "base_uri": "https://localhost:8080/"
        },
        "id": "c5dbYuNvDOz6",
        "outputId": "746c80e4-3176-4a06-ec95-54aa02470bea"
      },
      "execution_count": 8,
      "outputs": [
        {
          "output_type": "stream",
          "name": "stdout",
          "text": [
            "bedmoS\n"
          ]
        }
      ]
    },
    {
      "cell_type": "code",
      "source": [
        "#Q3. Implement a Python function that takes a list of integers and returns a new list containing the squares of each number?\n",
        "\n",
        "def square_numbers(nums):\n",
        "  return [n**2 for n in nums]\n",
        "print(square_numbers([1, 2, 3, 4, 5]))"
      ],
      "metadata": {
        "colab": {
          "base_uri": "https://localhost:8080/"
        },
        "id": "BJMReEiuD9yr",
        "outputId": "ebb244c1-6420-4b13-ec62-28adac3a4d28"
      },
      "execution_count": 9,
      "outputs": [
        {
          "output_type": "stream",
          "name": "stdout",
          "text": [
            "[1, 4, 9, 16, 25]\n"
          ]
        }
      ]
    },
    {
      "cell_type": "code",
      "source": [
        "#Q4. Write a Python function that checks if a given number is prime or not from 1 to 200?\n",
        "\n",
        "from math import sqrt\n",
        "def primeNo(num):\n",
        "  if num==1 or num==0:\n",
        "    print(\"Not a prime number\")\n",
        "\n",
        "  for i in range(2,int(sqrt(num))+1):\n",
        "   if num%i==0:\n",
        "    return False\n",
        "\n",
        "  return True\n",
        "\n",
        "\n",
        "num=int(input(\"Enter a number between (1 to 200):\"))\n",
        "check=primeNo(num)\n",
        "print(f\"The {num} is a prime number : {check}\")\n"
      ],
      "metadata": {
        "colab": {
          "base_uri": "https://localhost:8080/"
        },
        "id": "L4wbYt1qEKEB",
        "outputId": "37c69a2b-4500-4575-e6a5-ccb491d86615"
      },
      "execution_count": 20,
      "outputs": [
        {
          "output_type": "stream",
          "name": "stdout",
          "text": [
            "Enter a number between (1 to 200):67\n",
            "The 67 is a prime number : True\n"
          ]
        }
      ]
    },
    {
      "cell_type": "code",
      "source": [
        "#5.  Create an iterator class in Python that generates the Fibonacci sequence up to a specified number of terms.\n",
        "\n",
        "def fibonacci_generator(n_terms):\n",
        "\n",
        "    a, b = 0, 1  # Initialize the first two Fibonacci numbers\n",
        "    count = 0\n",
        "\n",
        "    while count < n_terms:\n",
        "        yield a  # Yield the current Fibonacci number\n",
        "        a, b = b, a + b  # Update to the next pair of Fibonacci numbers\n",
        "        count += 1\n",
        "\n",
        "fib_gen = fibonacci_generator(10)\n",
        "\n",
        "print(\"First 10 Fibonacci numbers:\")\n",
        "for num in fib_gen:\n",
        "    print(num, end=\" \")"
      ],
      "metadata": {
        "colab": {
          "base_uri": "https://localhost:8080/"
        },
        "id": "1zkjaTEnJHu5",
        "outputId": "29a46f04-a102-4459-d52b-747cdafcf919"
      },
      "execution_count": 21,
      "outputs": [
        {
          "output_type": "stream",
          "name": "stdout",
          "text": [
            "First 10 Fibonacci numbers:\n",
            "0 1 1 2 3 5 8 13 21 34 "
          ]
        }
      ]
    },
    {
      "cell_type": "code",
      "source": [
        "#6.  Write a generator function in Python that yields the powers of 2 up to a given exponent.\n",
        "\n",
        "def max_exponent(num):\n",
        "  for i in  range(0,num+1):\n",
        "    a=2**i\n",
        "    yield a\n",
        "\n",
        "\n",
        "num=int(input(\"Enter the power of exponent : \"))\n",
        "gen=max_exponent(num)\n",
        "\n",
        "for _ in range(num+1):\n",
        "    print(next(gen))"
      ],
      "metadata": {
        "colab": {
          "base_uri": "https://localhost:8080/"
        },
        "id": "gf-c215HJObh",
        "outputId": "8b0b02f3-fd86-4ff7-f200-2c81e77b5e12"
      },
      "execution_count": 22,
      "outputs": [
        {
          "output_type": "stream",
          "name": "stdout",
          "text": [
            "Enter the power of exponent : 8\n",
            "1\n",
            "2\n",
            "4\n",
            "8\n",
            "16\n",
            "32\n",
            "64\n",
            "128\n",
            "256\n"
          ]
        }
      ]
    },
    {
      "cell_type": "code",
      "source": [
        "#7.  Implement a generator function that reads a file line by line and yields each line as a string.\n",
        "\n",
        "def read_lines(file_content):\n",
        "    for line in file_content:\n",
        "        yield line.strip()  # remove any extra spaces/newlines\n",
        "\n",
        "# Simulated file content as a list of strings\n",
        "file = [\n",
        "    \"This is the first line\\n\",\n",
        "    \"This is the second line\\n\",\n",
        "    \"This is the third line\\n\"\n",
        "]\n",
        "\n",
        "# Using the generator\n",
        "for line in read_lines(file):\n",
        "    print(line)\n"
      ],
      "metadata": {
        "colab": {
          "base_uri": "https://localhost:8080/"
        },
        "id": "3IOFkhYYJUHf",
        "outputId": "8796940d-b906-454a-f240-4f56034bc3ee"
      },
      "execution_count": 23,
      "outputs": [
        {
          "output_type": "stream",
          "name": "stdout",
          "text": [
            "This is the first line\n",
            "This is the second line\n",
            "This is the third line\n"
          ]
        }
      ]
    },
    {
      "cell_type": "code",
      "source": [
        "#8. Use a lambda function in Python to sort a list of tuples based on the second element of each tuple.\n",
        "\n",
        "data = [(1, 9), (2, 8), (3, 7), (4, 6)]\n",
        "# Sort based on second element using lambda\n",
        "sorted_list = sorted(data, key=lambda x: x[1])\n",
        "print(\"Original List:\", data)\n",
        "print(\"Sorted List:\", sorted_list)"
      ],
      "metadata": {
        "colab": {
          "base_uri": "https://localhost:8080/"
        },
        "id": "XeoEVqCiJaFS",
        "outputId": "19b43f8d-25cf-4dfa-ca6e-c4fc867395cf"
      },
      "execution_count": 25,
      "outputs": [
        {
          "output_type": "stream",
          "name": "stdout",
          "text": [
            "Original List: [(1, 9), (2, 8), (3, 7), (4, 6)]\n",
            "Sorted List: [(4, 6), (3, 7), (2, 8), (1, 9)]\n"
          ]
        }
      ]
    },
    {
      "cell_type": "code",
      "source": [
        "#9. Write a Python program that uses `map()` to convert a list of temperatures from Celsius to Fahrenheit.\n",
        "\n",
        "\n",
        "celsius = [0, 22, 37, 110]\n",
        "\n",
        "# Using map() with lambda\n",
        "fahrenheit = list(map(lambda c: (c * 9/5) + 32, celsius))\n",
        "\n",
        "# Output the result\n",
        "print(\"Celsius:   \", celsius)\n",
        "print(\"Fahrenheit:\", fahrenheit)\n",
        "\n",
        "\n"
      ],
      "metadata": {
        "colab": {
          "base_uri": "https://localhost:8080/"
        },
        "id": "Au9RDBanJqmT",
        "outputId": "dd70acdb-85a5-4539-9503-acb2de8dd6e9"
      },
      "execution_count": 27,
      "outputs": [
        {
          "output_type": "stream",
          "name": "stdout",
          "text": [
            "Celsius:    [0, 22, 37, 110]\n",
            "Fahrenheit: [32.0, 71.6, 98.6, 230.0]\n"
          ]
        }
      ]
    },
    {
      "cell_type": "code",
      "source": [
        "#10. Create a Python program that uses `filter()` to remove all the vowels from a given string.\n",
        "\n",
        "string=input(\"enter the string :\")\n",
        "new_string=string.lower()\n",
        "\n",
        "vowels = ['a', 'e', 'i', 'o', 'u']\n",
        "filtered_string = ''.join(filter(lambda x: x not in vowels, new_string))\n",
        "\n",
        "print(\"Original string:\", string)\n",
        "print(\"Filtered string:\", filtered_string)"
      ],
      "metadata": {
        "colab": {
          "base_uri": "https://localhost:8080/"
        },
        "id": "Hg3p8d18J5U4",
        "outputId": "1dfb3a1d-7f94-44a5-f348-82f398eeaecb"
      },
      "execution_count": 28,
      "outputs": [
        {
          "output_type": "stream",
          "name": "stdout",
          "text": [
            "enter the string :Hey\n",
            "Original string: Hey\n",
            "Filtered string: hy\n"
          ]
        }
      ]
    },
    {
      "cell_type": "code",
      "source": [
        "#11.Imagine an accounting routine used in a book shop. It works on a list with sublists, which look like this:\n",
        "# order numer         Book title and Author                    Quantity          Price per item\n",
        "# 34587               learning Python, Mark Lutz                  4                   40.95\n",
        "# 98762               Programming Python, Mark Lutz               5                   56.80\n",
        "# 77226               Head first Python, Paul Barry               3                   32.95\n",
        "# 88112               Einnfuhrung in Pthon 3 , Bernd Klein        3                   24.99\n",
        "\n",
        "#Write a Python program, which returns a list with 2-tuples. Each tuple consists of the order number and the product of the price per item and the quantity. The product should be increased by 10,- € if the value of the order is smaller than 100,00 €.\n",
        "#Write a Python program using lambda and map?\n",
        "\n",
        "\n",
        "def process_orders(orders):\n",
        "    processed_orders = list(map(\n",
        "        lambda order: (order[0],(order[2] * order[3]) + 10 if order[0] < 100000 else (order[2] * order[3])),orders))\n",
        "    return processed_orders\n",
        "\n",
        "# Example data from the image\n",
        "book_orders = [\n",
        "    [34587, \"Learning Python, Mark Lutz\", 4, 40.95],\n",
        "    [98762, \"Programming Python, Mark Lutz\", 5, 56.80],\n",
        "    [77226, \"Head First Python, Paul Barry\", 3, 32.95],\n",
        "    [88112, \"Einführung in Python3, Bernd Klein\", 3, 24.99]\n",
        "]\n",
        "\n",
        "# Get the processed orders\n",
        "final_list = process_orders(book_orders)\n",
        "\n",
        "# Print the result\n",
        "print(\"(Order number , total price(Quantity* price)):\",final_list)"
      ],
      "metadata": {
        "colab": {
          "base_uri": "https://localhost:8080/"
        },
        "id": "gUy20JazKAdQ",
        "outputId": "d72efdf1-5829-47ba-aafa-4a19a1f94c78"
      },
      "execution_count": 30,
      "outputs": [
        {
          "output_type": "stream",
          "name": "stdout",
          "text": [
            "(Order number , total price(Quantity* price)): [(34587, 173.8), (98762, 294.0), (77226, 108.85000000000001), (88112, 84.97)]\n"
          ]
        }
      ]
    }
  ]
}