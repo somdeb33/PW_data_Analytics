{
  "cells": [
    {
      "cell_type": "code",
      "execution_count": null,
      "metadata": {
        "id": "GU5n0D4fTFB1"
      },
      "outputs": [],
      "source": []
    },
    {
      "cell_type": "markdown",
      "metadata": {
        "id": "DmkrbFUpTFsL"
      },
      "source": [
        "**Assignment**"
      ]
    },
    {
      "cell_type": "markdown",
      "metadata": {
        "id": "qYqKajnpTP5m"
      },
      "source": [
        "1.What is Python, and why is it popular?\n",
        "  >Python is a high-level, interpreted, object-oriented programming language known for its readability and ease of use.\n",
        "\n",
        "  Python is popular for:\n",
        "\n",
        "  \n",
        "    1. Easy to read and understand :Python has clean, English-like syntax    that makes it easy to write and read code.\n",
        "    2. Interpreted Language :Python code runs line-by-line, which simplifies debugging and testing.\n",
        "    3. Free and open Source : Python is freely available for use, and its source code can be modified and shared.\n",
        "    4. Huge and Active Community: Millions of users contribute tutorials, tools, and support for learners and developers.\n",
        "\n",
        "\n"
      ]
    },
    {
      "cell_type": "markdown",
      "metadata": {
        "id": "nBpWl76IT4WG"
      },
      "source": [
        "2.What is an interpreter in Python ?\n",
        "\n",
        "\n",
        "An interpreter in Python is a program that reads and executes code line-by-line rather than compiling the entire code at once."
      ]
    },
    {
      "cell_type": "markdown",
      "metadata": {
        "id": "EfsysLMOUKCm"
      },
      "source": []
    },
    {
      "cell_type": "markdown",
      "metadata": {
        "id": "cm-_CIr7UL3m"
      },
      "source": [
        "3.What are pre-defined keywords in Python ?\n",
        "\n",
        "Pre-defined keywords in Python are reserved words that have special meaning in the language. You cannot use them as variable names, function names, or identifiers.\n",
        "\n",
        "Examples : if, else, elif, while, for, break, continue"
      ]
    },
    {
      "cell_type": "markdown",
      "metadata": {
        "id": "k_auF20eUd0j"
      },
      "source": [
        "4.Can keywords be used as variable names ?\n",
        "\n",
        "No, we cannot use keywords as variable names in Python because Python keywords are reserved words that have special meanings in the language syntax\n"
      ]
    },
    {
      "cell_type": "markdown",
      "metadata": {
        "id": "WK3cyt0AVCl_"
      },
      "source": [
        "5.What is mutability in Python ?\n",
        "\n",
        "Mutability in Python refers to whether an object’s value can be changed after it is created.\n",
        "\n",
        "Example : list, dict, set"
      ]
    },
    {
      "cell_type": "markdown",
      "metadata": {
        "id": "yXRHfX_uVPO-"
      },
      "source": [
        "6.Why are lists mutable, but tuples are immutable ?\n",
        "\n",
        "Lists are designed to be dynamic sequences used when:\n",
        "we need to collect and manipulate data.\n",
        "Items need to be appended, removed, or modified frequently\n",
        "\n",
        "Tuples are intended to be fixed collections of items — often used as:\n",
        "Records or data points.\n",
        "Keys in dictionaries.\n",
        "Ensuring data integrity and safety."
      ]
    },
    {
      "cell_type": "markdown",
      "metadata": {
        "id": "BgNYyCYNVZJK"
      },
      "source": [
        "7.What is the difference between “==” and “is” operators in Python ?\n",
        "\n",
        "== (Equality Operator)\n",
        "Checks if two variables have the same value.\n",
        "It compares the contents of the objects.\n",
        "\n",
        "\n",
        "\n",
        "\n",
        "is (Identity Operator)\n",
        "Checks if two variables point to the same object in memory.\n",
        "It compares the identity of the objects."
      ]
    },
    {
      "cell_type": "markdown",
      "metadata": {
        "id": "_UJtROdrVmvm"
      },
      "source": [
        "8.What are logical operators in Python ?\n",
        "\n",
        "Logical operators are used to combine multiple conditions and return a boolean result (True or False).\n",
        "\n",
        ">>1.and:\n",
        "This operator returns True only if both conditions are True.\n",
        "\n",
        ">>2.or:\n",
        "This operator returns True if at least one of the conditions is True.\n",
        "\n",
        ">>3.not:\n",
        "This operator inverts the result. If the condition is True, it returns False, and vice versa."
      ]
    },
    {
      "cell_type": "markdown",
      "metadata": {
        "id": "90mco1IPVwl7"
      },
      "source": [
        "9.What is type casting in Python ?\n",
        "\n",
        "Type casting in Python means converting one data type into another manually using built-in functions.\n",
        "\n",
        ">It’s useful when we want to perform operations between different types, like combining a number and a string, or ensuring the right type in calculations."
      ]
    },
    {
      "cell_type": "markdown",
      "metadata": {
        "id": "qv5LbpfZV0uS"
      },
      "source": [
        "10.What is the difference between implicit and explicit type casting?\n",
        "\n",
        "The difference between implicit and explicit type casting are :\n",
        "1. Implicit Type Casting\n",
        ">>Automatically done by Python\n",
        "\n",
        ">>Happens when there's no risk of data loss\n",
        "\n",
        ">>Python converts the type behind the scenes\n",
        "\n",
        "\n",
        "2. Explicit Type Casting\n",
        ">>Manually done by the programmer\n",
        "\n",
        ">weu use functions like int(), float(), str() to force a type conversion\n",
        "\n",
        ">>Useful when Python can’t safely or automatically convert the value"
      ]
    },
    {
      "cell_type": "markdown",
      "metadata": {
        "id": "wSZaUcFEV5Fb"
      },
      "source": [
        "11.What is the purpose of conditional statements in Python ?\n",
        "\n",
        "Conditional statements in Python are used to execute specific blocks of code only if certain conditions are met. They allow your program to make decisions and perform different actions based on the data or state of the program. The main purpose is to control the flow of execution, making programs more dynamic and responsive to various inputs or situations."
      ]
    },
    {
      "cell_type": "markdown",
      "metadata": {
        "id": "vrdoshLDV9Nx"
      },
      "source": [
        "12.How does the elif statement work ?\n",
        "\n",
        ">The elif  statement is used to check multiple conditions in a sequence after an initial if statement. It only executes its block if the previous conditions were False and its own condition is True.\n",
        "\n",
        ">Working :\n",
        "\n",
        ">>Python checks the \"if\" condition.\n",
        "\n",
        ">>If \"if\" is False, it checks the elif condition.\n",
        "\n",
        ">>If \"elif\" is True, it runs the elif block.\n",
        "\n",
        ">>If all conditions are False, it runs the \"else\" block (if provided)."
      ]
    },
    {
      "cell_type": "markdown",
      "metadata": {
        "id": "mFxqHYc8WBTf"
      },
      "source": [
        "13.What is the difference between for and while loops?\n",
        "\n",
        "Python provides two main types of loops: for and while. Both are used to repeat code, but they differ in how and when they stop.\n",
        "\n",
        "> \"for\" Loop\n",
        ">>Used when you know beforehand how many times you want to iterate.\n",
        "\n",
        ">>It loops over a sequence like a list, string, tuple, or range.\n",
        "\n",
        ">>Automatically stops when the sequence ends.\n",
        "\n",
        ">\"While\" Loop\n",
        "\n",
        ">>Used when you don't know in advance how many times to loop.\n",
        "\n",
        ">>Keeps running as long as the condition is True.\n",
        "\n",
        ">>You must manually update variables to eventually stop the loop."
      ]
    },
    {
      "cell_type": "markdown",
      "metadata": {
        "id": "0YIc_gXyWF1Q"
      },
      "source": [
        "14.Describe a scenario where a while loop is more suitable than a for loop.\n",
        "\n",
        "when we  write a program that asks a user to enter a login id and  password, and we  want to keep asking until they get it right"
      ]
    },
    {
      "cell_type": "markdown",
      "metadata": {
        "id": "j3HVQfKqWJ2H"
      },
      "source": []
    },
    {
      "cell_type": "markdown",
      "metadata": {
        "id": "NFsj0hU9bClO"
      },
      "source": [
        "**PRACTICAL QUESTIONS**"
      ]
    },
    {
      "cell_type": "code",
      "execution_count": 1,
      "metadata": {
        "id": "bUVNu9KPbOL-"
      },
      "outputs": [
        {
          "name": "stdout",
          "output_type": "stream",
          "text": [
            "Hello, World!\n"
          ]
        }
      ],
      "source": [
        "#1.  Write a Python program to print \"Hello, World!\"\n",
        "\n",
        "print(\"Hello, World!\")"
      ]
    },
    {
      "cell_type": "code",
      "execution_count": 2,
      "metadata": {
        "id": "pCvHgunebVO0"
      },
      "outputs": [
        {
          "name": "stdout",
          "output_type": "stream",
          "text": [
            "My name is Somdeb and age is 25\n"
          ]
        }
      ],
      "source": [
        "#2 Write a Python program that displays your name and age\n",
        "\n",
        "name=\"Somdeb\"\n",
        "age=25\n",
        "print(f\"My name is {name} and age is {age}\")"
      ]
    },
    {
      "cell_type": "code",
      "execution_count": 3,
      "metadata": {
        "id": "5brLSVtMbu8Y"
      },
      "outputs": [
        {
          "name": "stdout",
          "output_type": "stream",
          "text": [
            "List of Python keywords:\n",
            "False\n",
            "None\n",
            "True\n",
            "and\n",
            "as\n",
            "assert\n",
            "async\n",
            "await\n",
            "break\n",
            "class\n",
            "continue\n",
            "def\n",
            "del\n",
            "elif\n",
            "else\n",
            "except\n",
            "finally\n",
            "for\n",
            "from\n",
            "global\n",
            "if\n",
            "import\n",
            "in\n",
            "is\n",
            "lambda\n",
            "nonlocal\n",
            "not\n",
            "or\n",
            "pass\n",
            "raise\n",
            "return\n",
            "try\n",
            "while\n",
            "with\n",
            "yield\n"
          ]
        }
      ],
      "source": [
        "#3.  Write code to print all the pre-defined keywords in Python using the keyword library\n",
        "\n",
        "import keyword\n",
        "keywords = keyword.kwlist\n",
        "print(\"List of Python keywords:\")\n",
        "for kw in keywords:\n",
        "    print(kw)"
      ]
    },
    {
      "cell_type": "code",
      "execution_count": 5,
      "metadata": {
        "id": "y41of19ncSid"
      },
      "outputs": [
        {
          "name": "stdout",
          "output_type": "stream",
          "text": [
            "It is a Python Keyword\n"
          ]
        }
      ],
      "source": [
        "#4. Write a program that checks if a given word is a Python keyword.\n",
        "\n",
        "import keyword\n",
        "word=input(\"Enter the word to check if it's a python keyword\")\n",
        "list_keywords=keyword.kwlist\n",
        "if word in list_keywords:\n",
        "  print(\"It is a Python Keyword\")\n",
        "else:\n",
        "  print(\"It is not a Python keyword\")"
      ]
    },
    {
      "cell_type": "code",
      "execution_count": null,
      "metadata": {
        "id": "SvLOjwj_dLNE"
      },
      "outputs": [
        {
          "name": "stdout",
          "output_type": "stream",
          "text": [
            "original list:  [10, 20, 30, 40]\n",
            "list after changing an element : [10, 20, 50, 40]\n",
            "\n",
            "original tuple:  (10, 20, 30, 40, 50, 60)\n"
          ]
        },
        {
          "ename": "TypeError",
          "evalue": "'tuple' object does not support item assignment",
          "output_type": "error",
          "traceback": [
            "\u001b[31m---------------------------------------------------------------------------\u001b[39m",
            "\u001b[31mTypeError\u001b[39m                                 Traceback (most recent call last)",
            "\u001b[36mCell\u001b[39m\u001b[36m \u001b[39m\u001b[32mIn[6]\u001b[39m\u001b[32m, line 15\u001b[39m\n\u001b[32m     12\u001b[39m \u001b[38;5;28mprint\u001b[39m(\u001b[33m\"\u001b[39m\u001b[33moriginal tuple: \u001b[39m\u001b[33m\"\u001b[39m,my_tuple)\n\u001b[32m     13\u001b[39m \u001b[38;5;66;03m#changing an element in tuple\u001b[39;00m\n\u001b[32m---> \u001b[39m\u001b[32m15\u001b[39m \u001b[43mmy_tuple\u001b[49m\u001b[43m[\u001b[49m\u001b[32;43m4\u001b[39;49m\u001b[43m]\u001b[49m=\u001b[32m70\u001b[39m\n\u001b[32m     16\u001b[39m \u001b[38;5;28mprint\u001b[39m(\u001b[33m\"\u001b[39m\u001b[33mTuple after changing an element :\u001b[39m\u001b[33m\"\u001b[39m,my_tuple)\n",
            "\u001b[31mTypeError\u001b[39m: 'tuple' object does not support item assignment"
          ]
        }
      ],
      "source": [
        "#5. Create a list and tuple in Python, and demonstrate how attempting to change an element works differently for each.\n",
        "\n",
        "my_list=[10,20,30,40]\n",
        "print(\"original list: \",my_list)\n",
        "#changing an element in list\n",
        "my_list[2]=50\n",
        "print(\"list after changing an element :\",my_list)\n",
        "print()\n",
        "\n",
        "my_tuple=(10,20,30,40,50,60)\n",
        "print(\"original tuple: \",my_tuple)\n",
        "#changing an element in tuple\n",
        "\n",
        "my_tuple[4]=70\n",
        "print(\"Tuple after changing an element :\",my_tuple)"
      ]
    },
    {
      "cell_type": "code",
      "execution_count": 7,
      "metadata": {
        "id": "sWiiCrZogqss"
      },
      "outputs": [
        {
          "name": "stdout",
          "output_type": "stream",
          "text": [
            "original list:  [1, 2, 6, 4]\n",
            "list after changing an element : [1, 2, 5, 4]\n",
            "original tuple:  (2, 4, 3, 6)\n",
            "Tuple is Immutable\n"
          ]
        }
      ],
      "source": [
        "#6. Write a function to demonstrate the behavior of mutable and immutable arguments.\n",
        "\n",
        "def mutable():\n",
        "  my_lst=[1,2,6,4]#list\n",
        "  print(\"original list: \",my_lst)\n",
        "  #changing an element in list\n",
        "  my_lst[2]=5\n",
        "  print(\"list after changing an element :\",my_lst)\n",
        "def immutable():\n",
        "  my_tuple=(2,4,3,6,) #tuple\n",
        "  print(\"original tuple: \",my_tuple)\n",
        "  #changing an element in list\n",
        "  try:\n",
        "    my_tuple[2]=5\n",
        "    print(\"Tuple after changing an element :\",my_tuple)\n",
        "  except:\n",
        "    print(\"Tuple is Immutable\")\n",
        "\n",
        "mutable()\n",
        "immutable()\n"
      ]
    },
    {
      "cell_type": "code",
      "execution_count": 8,
      "metadata": {
        "id": "pI0NrDZsg6Rb"
      },
      "outputs": [
        {
          "name": "stdout",
          "output_type": "stream",
          "text": [
            "Addition of two number : 30\n",
            "Subtraction of two number : -10\n",
            "Multiplication of two number : 200\n",
            "Division of two number : 0.5\n",
            "modulous of two number : 10\n",
            "Floor Division of two number : 0\n",
            "Exponential of two number : 100000000000000000000\n"
          ]
        }
      ],
      "source": [
        "#7. Write a program that performs basic arithmetic operations on two user-input numbers.\n",
        "\n",
        "num1=int(input(\"Enter the first number\"))\n",
        "num2=int(input(\"Enter the second number\"))\n",
        "print(\"Addition of two number :\",num1+num2)\n",
        "print(\"Subtraction of two number :\",num1-num2)\n",
        "print(\"Multiplication of two number :\",num1*num2)\n",
        "print(\"Division of two number :\",num1/num2)\n",
        "print(\"modulous of two number :\",num1%num2)\n",
        "print(\"Floor Division of two number :\",num1//num2)\n",
        "print(\"Exponential of two number :\",num1**num2)\n"
      ]
    },
    {
      "cell_type": "code",
      "execution_count": 9,
      "metadata": {
        "id": "ABP4TRqXhPpa"
      },
      "outputs": [
        {
          "name": "stdout",
          "output_type": "stream",
          "text": [
            "logical Operator and : False\n",
            "logical Operator or : True\n",
            "logical Operator not : False\n"
          ]
        }
      ],
      "source": [
        "#8. Write a program to demonstrate the use of logical operators.\n",
        "\n",
        "num1=True\n",
        "num2=False\n",
        "print(\"logical Operator and :\",num1 and num2)\n",
        "print(\"logical Operator or :\",num1 or num2)\n",
        "print(\"logical Operator not :\",not num1 )\n"
      ]
    },
    {
      "cell_type": "code",
      "execution_count": 10,
      "metadata": {
        "id": "bTHv_eyqhhWv"
      },
      "outputs": [
        {
          "name": "stdout",
          "output_type": "stream",
          "text": [
            "User_input : 5\n",
            "User input in integer: 5\n",
            "User input in float: 5.0\n",
            "User input in boolean: True\n"
          ]
        }
      ],
      "source": [
        "#9.  Write a Python program to convert user input from string to integer, float, and boolean types.\n",
        "\n",
        "user_input=input(\"Enter a number:\")\n",
        "print(\"User_input :\",user_input)\n",
        "if user_input.isdigit():\n",
        "  #String --> integer\n",
        "  print(\"User input in integer:\",int(user_input))\n",
        "  #String --> float\n",
        "  print(\"User input in float:\",float(user_input))\n",
        "  #String --> boolean\n",
        "  print(\"User input in boolean:\",bool(user_input))\n",
        "else:\n",
        "  print(\"Invalid Input , Enter a digit\")"
      ]
    },
    {
      "cell_type": "code",
      "execution_count": 11,
      "metadata": {
        "id": "GviiU2-wibgK"
      },
      "outputs": [
        {
          "name": "stdout",
          "output_type": "stream",
          "text": [
            "Original list (strings): ['1', '2', '3', '4', '5']\n",
            "Type-casted list (integers): [1, 2, 3, 4, 5]\n"
          ]
        }
      ],
      "source": [
        "#10. Write code to demonstrate type casting with list elements.\n",
        "\n",
        "str_list = ['1', '2', '3', '4', '5']\n",
        "#String --> integer\n",
        "integer_list = [int(element) for element in str_list]\n",
        "# Print the original and type-casted lists\n",
        "print(\"Original list (strings):\", str_list)\n",
        "print(\"Type-casted list (integers):\", integer_list)"
      ]
    },
    {
      "cell_type": "code",
      "execution_count": 12,
      "metadata": {
        "id": "3rEzH2-pidl7"
      },
      "outputs": [
        {
          "name": "stdout",
          "output_type": "stream",
          "text": [
            "It is a negative number\n"
          ]
        }
      ],
      "source": [
        "#11.Write a program that checks if a number is positive, negative, or zero.\n",
        "\n",
        "number=int(input(\"Enter the number:\"))\n",
        "if number==0:\n",
        "  print(\"It is zero\")\n",
        "elif number>0:\n",
        "  print(\"It is a positive number\")\n",
        "else:\n",
        "  print(\"It is a negative number\")"
      ]
    },
    {
      "cell_type": "code",
      "execution_count": 13,
      "metadata": {
        "id": "oTDcZdGdigOS"
      },
      "outputs": [
        {
          "name": "stdout",
          "output_type": "stream",
          "text": [
            "1\n",
            "2\n",
            "3\n",
            "4\n",
            "5\n",
            "6\n",
            "7\n",
            "8\n",
            "9\n",
            "10\n"
          ]
        }
      ],
      "source": [
        "#12. . Write a for loop to print numbers from 1 to 10.\n",
        "\n",
        "for i in range(1,11):\n",
        "  print(i)"
      ]
    },
    {
      "cell_type": "code",
      "execution_count": 14,
      "metadata": {
        "id": "0KvZMyU5iih6"
      },
      "outputs": [
        {
          "name": "stdout",
          "output_type": "stream",
          "text": [
            "Sum of all even numbers between 1 and 50: 650\n"
          ]
        }
      ],
      "source": [
        "#13.  Write a Python program to find the sum of all even numbers between 1 and 50.\n",
        "\n",
        "sum=0\n",
        "for i in range(1,51):\n",
        "  if i%2==0:\n",
        "    sum+=i\n",
        "print(\"Sum of all even numbers between 1 and 50:\",sum)"
      ]
    },
    {
      "cell_type": "code",
      "execution_count": 15,
      "metadata": {
        "id": "sgqXQFcgileC"
      },
      "outputs": [
        {
          "name": "stdout",
          "output_type": "stream",
          "text": [
            "bedmos"
          ]
        }
      ],
      "source": [
        "#14. Write a program to reverse a string using a while loop.\n",
        "\n",
        "str=input(\"Enter the string:\")\n",
        "i=len(str)-1\n",
        "while i>=0:\n",
        "  print(str[i],end=\"\")\n",
        "  i-=1"
      ]
    },
    {
      "cell_type": "code",
      "execution_count": 16,
      "metadata": {
        "id": "4LqLEwQ9in37"
      },
      "outputs": [
        {
          "name": "stdout",
          "output_type": "stream",
          "text": [
            "factorial of 5 is 120\n"
          ]
        }
      ],
      "source": [
        "#15.Write a Python program to calculate the factorial of a number provided by the user using a while loop.\n",
        "\n",
        "num=int(input(\"Enter the number :\"))\n",
        "i=2\n",
        "fact=1\n",
        "while i<=num:\n",
        "  fact=fact*i\n",
        "  i+=1\n",
        "print(f\"factorial of {num} is {fact}\")"
      ]
    },
    {
      "cell_type": "code",
      "execution_count": null,
      "metadata": {},
      "outputs": [],
      "source": []
    }
  ],
  "metadata": {
    "colab": {
      "provenance": []
    },
    "kernelspec": {
      "display_name": "Python 3",
      "name": "python3"
    },
    "language_info": {
      "codemirror_mode": {
        "name": "ipython",
        "version": 3
      },
      "file_extension": ".py",
      "mimetype": "text/x-python",
      "name": "python",
      "nbconvert_exporter": "python",
      "pygments_lexer": "ipython3",
      "version": "3.13.5"
    }
  },
  "nbformat": 4,
  "nbformat_minor": 0
}
